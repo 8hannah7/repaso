{
 "cells": [
  {
   "cell_type": "markdown",
   "id": "d8f017f2",
   "metadata": {},
   "source": [
    "# REPASANDO\n",
    "ROXANA CONDORI CONDORI"
   ]
  },
  {
   "cell_type": "code",
   "execution_count": 1,
   "id": "64c0c134",
   "metadata": {},
   "outputs": [
    {
     "name": "stdout",
     "output_type": "stream",
     "text": [
      "Dime tu nombre:roxana condori\n",
      "Hola roxana condori\n"
     ]
    }
   ],
   "source": [
    "#Escribir un programa que pregunte al usuario su nombre, y luego lo salude.\n",
    "nombre=input(\"Dime tu nombre:\")\n",
    "print(\"Hola\",nombre)"
   ]
  },
  {
   "cell_type": "code",
   "execution_count": 3,
   "id": "7406010f",
   "metadata": {},
   "outputs": [
    {
     "name": "stdout",
     "output_type": "stream",
     "text": [
      "Introduce la base:10\n",
      "Introduce la altura:6\n",
      "El perimetro es 120.0 y el area es 60.0\n"
     ]
    }
   ],
   "source": [
    "#Calcular el perímetro y área de un rectángulo dada su base y su altura.\n",
    "base=float(input(\"Introduce la base:\"))\n",
    "altura=float(input(\"Introduce la altura:\"))\n",
    "perimetro = 2 * base * altura\n",
    "area = base * altura\n",
    "print(\"El perimetro es\", perimetro, \"y el area es\", area)\n"
   ]
  },
  {
   "cell_type": "code",
   "execution_count": 4,
   "id": "3c8dc274",
   "metadata": {},
   "outputs": [
    {
     "name": "stdout",
     "output_type": "stream",
     "text": [
      "Introduce el cateto 1:4\n",
      "Introduce el cateto 2:3\n",
      "La hipotenusa es 5.0\n"
     ]
    }
   ],
   "source": [
    "#Dados los catetos de un triángulo rectángulo, calcular su hipotenusa.\n",
    "import math\n",
    "a = float(input(\"Introduce el cateto 1:\"))\n",
    "b = float(input(\"Introduce el cateto 2:\"))\n",
    "h = math.sqrt(a ** 2 + b ** 2)\n",
    "print(\"La hipotenusa es\",h)\n"
   ]
  },
  {
   "cell_type": "code",
   "execution_count": 5,
   "id": "07463b6f",
   "metadata": {},
   "outputs": [
    {
     "name": "stdout",
     "output_type": "stream",
     "text": [
      "Introduce el número 1:5\n",
      "Introduce el número 2:2\n",
      "La suma es 7.0\n",
      "La resta es 3.0\n",
      "La multiplicación es 10.0\n",
      "La división es 2.5\n"
     ]
    }
   ],
   "source": [
    "#Dados dos números, mostrar la suma, resta, división y multiplicación de ambos.\n",
    "num1 = float(input(\"Introduce el número 1:\"))\n",
    "num2 = float(input(\"Introduce el número 2:\"))\n",
    "print(\"La suma es\", num1+num2)\n",
    "print(\"La resta es\", num1-num2)\n",
    "print(\"La multiplicación es\", num1*num2)\n",
    "print(\"La división es\", num1/num2)\n"
   ]
  },
  {
   "cell_type": "code",
   "execution_count": 8,
   "id": "35b00863",
   "metadata": {},
   "outputs": [
    {
     "name": "stdout",
     "output_type": "stream",
     "text": [
      "Introduce la temperatura en ºF:50\n",
      "La temperatura es 10.0 ºC\n"
     ]
    }
   ],
   "source": [
    "#Escribir un programa que convierta un valor dado en grados Fahrenheit a grados Celsius.\n",
    "#Recordar que la fórmula para la conversión es:\n",
    "fahrenheit = float(input(\"Introduce la temperatura en ºF:\"))\n",
    "celcius = (fahrenheit - 32) * 5 / 9\n",
    "print(\"La temperatura es\", celcius, \"ºC\")\n"
   ]
  },
  {
   "cell_type": "code",
   "execution_count": 9,
   "id": "25710201",
   "metadata": {},
   "outputs": [
    {
     "name": "stdout",
     "output_type": "stream",
     "text": [
      "Introduce el número 1:10\n",
      "Introduce el número 2:10\n",
      "Introduce el número 3:10\n",
      "La media es: 10.0\n"
     ]
    }
   ],
   "source": [
    "# Calcular la media de tres números pedidos por teclado\n",
    "\n",
    "num1 = float(input(\"Introduce el número 1:\"))\n",
    "num2 = float(input(\"Introduce el número 2:\"))\n",
    "num3 = float(input(\"Introduce el número 3:\"))\n",
    "media = (num1 + num2 +num3) / 3\n",
    "print(\"La media es:\", media)\n"
   ]
  },
  {
   "cell_type": "code",
   "execution_count": 10,
   "id": "922a906d",
   "metadata": {},
   "outputs": [
    {
     "name": "stdout",
     "output_type": "stream",
     "text": [
      "Introduce la cantidad de minutos:125\n",
      "2 horas y 5 minutos.\n"
     ]
    }
   ],
   "source": [
    "# Realiza un programa que reciba una cantidad de minutos y muestre por pantalla a \n",
    "# cuantas horas y minutos corresponde.\n",
    "\n",
    "minutos = int(input(\"Introduce la cantidad de minutos:\"))\n",
    "res_horas = minutos // 60\n",
    "res_min = minutos % 60\n",
    "print(res_horas,\"horas y\",res_min,\"minutos.\")\n"
   ]
  },
  {
   "cell_type": "code",
   "execution_count": 11,
   "id": "cb530c2c",
   "metadata": {},
   "outputs": [
    {
     "name": "stdout",
     "output_type": "stream",
     "text": [
      "Dime el sueldo base:100\n",
      "Dime precio de la venta 1:100\n",
      "Dime precio de la venta 2:100\n",
      "Dime precio de la venta 3:100\n",
      "Comisión por ventas: 30.0\n",
      "Sueldo total: 130.0\n"
     ]
    }
   ],
   "source": [
    "# Un vendedor recibe un sueldo base mas un 10% extra por comisión de sus ventas, \n",
    "# el vendedor desea saber cuanto dinero obtendrá por concepto de comisiones por \n",
    "# las tres ventas que realiza en el mes y el total que recibirá en el mes tomando \n",
    "# en cuenta su sueldo base y comisiones.\n",
    "\n",
    "sueldo_base = float(input(\"Dime el sueldo base:\"))\n",
    "venta1 = float(input(\"Dime precio de la venta 1:\"))\n",
    "venta2 = float(input(\"Dime precio de la venta 2:\"))\n",
    "venta3 = float(input(\"Dime precio de la venta 3:\"))\n",
    "comision = venta1 * 0.1 + venta2 * 0.1 + venta3 * 0.1\n",
    "print(\"Comisión por ventas:\",comision)\n",
    "print(\"Sueldo total:\", sueldo_base + comision)\n"
   ]
  },
  {
   "cell_type": "code",
   "execution_count": 13,
   "id": "0ed4fdea",
   "metadata": {},
   "outputs": [
    {
     "name": "stdout",
     "output_type": "stream",
     "text": [
      "Dime el precio:150\n",
      "Precio final: 127.5\n"
     ]
    }
   ],
   "source": [
    "# Una tienda ofrece un descuento del 15% sobre el total de la compra y un cliente \n",
    "# desea saber cuanto deberá pagar finalmente por su compra.\n",
    "\n",
    "precio = float(input(\"Dime el precio:\"))\n",
    "print(\"Precio final:\",precio - precio * 0.15)\n"
   ]
  },
  {
   "cell_type": "code",
   "execution_count": 14,
   "id": "578f2200",
   "metadata": {},
   "outputs": [
    {
     "name": "stdout",
     "output_type": "stream",
     "text": [
      "Dime la nota del parcial 1:14\n",
      "Dime la nota del parcial 2:18\n",
      "Dime la nota del parcial 3:16\n",
      "Dime la nota del examen:13\n",
      "Dime la nota del trabajo:11\n",
      "nota final: 14.350000000000001\n"
     ]
    }
   ],
   "source": [
    "# Un alumno desea saber cual será su calificación final en la materia de Algoritmos\n",
    "# Dicha calificación se compone de los siguientes porcentajes:\n",
    "# * 55% del promedio de sus tres calificaciones parciales.\n",
    "# * 30% de la calificación del examen final.\n",
    "# * 15% de la calificación de un trabajo final.\n",
    "\n",
    "parcial1 = float(input(\"Dime la nota del parcial 1:\"))\n",
    "parcial2 = float(input(\"Dime la nota del parcial 2:\"))\n",
    "parcial3 = float(input(\"Dime la nota del parcial 3:\"))\n",
    "examen = float(input(\"Dime la nota del examen:\"))\n",
    "trabajo = float(input(\"Dime la nota del trabajo:\"))\n",
    "nota = ((parcial1 + parcial2 + parcial3) / 3) * 0.55 + 0.3 * examen + 0.15 * trabajo\n",
    "print(\"nota final:\", nota)\n"
   ]
  },
  {
   "cell_type": "code",
   "execution_count": 15,
   "id": "09e3769b",
   "metadata": {},
   "outputs": [
    {
     "name": "stdout",
     "output_type": "stream",
     "text": [
      "Dime el número 1:30\n",
      "Dime el número 2:20\n",
      "Distancia: 10\n"
     ]
    }
   ],
   "source": [
    "# Pide al usuario dos números y muestra la \"distancia\" entre ellos \n",
    "# (el valor absoluto de su diferencia, de modo que el resultado sea siempre positivo).\n",
    "\n",
    "num1 = int(input(\"Dime el número 1:\"))\n",
    "num2 = int(input(\"Dime el número 2:\"))\n",
    "print(\"Distancia:\", abs(num1 - num2))\n"
   ]
  },
  {
   "cell_type": "code",
   "execution_count": 16,
   "id": "f0327bd2",
   "metadata": {},
   "outputs": [
    {
     "name": "stdout",
     "output_type": "stream",
     "text": [
      "Dime las coordenadas del punto 1:\n",
      "8\n",
      "4\n",
      "Dime las coordenadas del punto 2:\n",
      "2\n",
      "1\n",
      "Distancia: 6.708203932499369\n"
     ]
    }
   ],
   "source": [
    "# Pide al usuario dos pares de números x1,y2 y x2,y2, que representen dos puntos \n",
    "# en el plano. Calcula y muestra la distancia entre ellos.\n",
    "\n",
    "import math\n",
    "print(\"Dime las coordenadas del punto 1:\")\n",
    "x1 = int(input())\n",
    "y1 = int(input())\n",
    "print(\"Dime las coordenadas del punto 2:\")\n",
    "x2 = int(input())\n",
    "y2 = int(input())\n",
    "distancia = math.sqrt(pow(x2 - x1, 2) + pow(y2 - y1, 2))\n",
    "print(\"Distancia:\",distancia)\n"
   ]
  },
  {
   "cell_type": "code",
   "execution_count": 17,
   "id": "521a27a3",
   "metadata": {},
   "outputs": [
    {
     "name": "stdout",
     "output_type": "stream",
     "text": [
      "Dime el número:9\n",
      "Raíz cuadrada: 3.0\n",
      "Raíz cúbica: 2.080083823051904\n"
     ]
    }
   ],
   "source": [
    "# Realizar un algoritmos que lea un número y que muestre su raíz cuadrada y su raíz cúbica. \n",
    "# Python3 no tiene ninguna función predefinida que permita calcular la raíz cúbica, ¿Cómo se puede calcular?\n",
    "\n",
    "import math\n",
    "num = int(input(\"Dime el número:\"))\n",
    "print(\"Raíz cuadrada:\",math.sqrt(num))\n",
    "print(\"Raíz cúbica:\",num ** (1 / 3))\n"
   ]
  },
  {
   "cell_type": "code",
   "execution_count": null,
   "id": "5c801ec9",
   "metadata": {},
   "outputs": [],
   "source": [
    "# Dado un número de dos cifras, diseñe un algoritmo que permita obtener el \n",
    "# número invertido.\n",
    "\n",
    "num = int(input(\"Dime un número de dos cifras:\"))\n",
    "decenas = num // 10\n",
    "unidades = num % 10\n",
    "print(\"Primera cifra (decenas):\",decenas)\n",
    "print(\"Segunda cifra (unidades):\",unidades)\n"
   ]
  },
  {
   "cell_type": "code",
   "execution_count": null,
   "id": "64e025d6",
   "metadata": {},
   "outputs": [],
   "source": []
  }
 ],
 "metadata": {
  "kernelspec": {
   "display_name": "Python 3 (ipykernel)",
   "language": "python",
   "name": "python3"
  },
  "language_info": {
   "codemirror_mode": {
    "name": "ipython",
    "version": 3
   },
   "file_extension": ".py",
   "mimetype": "text/x-python",
   "name": "python",
   "nbconvert_exporter": "python",
   "pygments_lexer": "ipython3",
   "version": "3.9.12"
  }
 },
 "nbformat": 4,
 "nbformat_minor": 5
}
